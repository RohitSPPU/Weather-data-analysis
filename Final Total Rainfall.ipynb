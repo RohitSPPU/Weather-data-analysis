{
 "cells": [
  {
   "cell_type": "markdown",
   "id": "e8c4dada",
   "metadata": {},
   "source": [
    "# Rainfall Graph Plot for Yavatmal"
   ]
  },
  {
   "cell_type": "code",
   "execution_count": 1,
   "id": "c1208fbf",
   "metadata": {},
   "outputs": [
    {
     "name": "stdout",
     "output_type": "stream",
     "text": [
      " Volume in drive C has no label.\n",
      " Volume Serial Number is E86B-251C\n",
      "\n",
      " Directory of C:\\Users\\Lenovo\\Documents\\WeatherAnalysis\n",
      "\n",
      "23-Nov-21  02:18 PM    <DIR>          .\n",
      "23-Nov-21  02:18 PM    <DIR>          ..\n",
      "14-Nov-21  08:20 PM    <DIR>          .ipynb_checkpoints\n",
      "23-Nov-21  02:18 PM            34,712 Final Total Rainfall.ipynb\n",
      "24-Oct-21  11:16 AM            11,661 rainfall data.csv\n",
      "15-Nov-21  10:19 PM               408 rainfall.csv\n",
      "16-Nov-21  09:16 AM            41,045 Rolling Mean for Avg rainfall in Yavatmal 1990 to 2005.ipynb\n",
      "15-Nov-21  10:36 PM            21,094 Rolling Mean for Total rainfall in Yavatmal 1990 to 2005.ipynb\n",
      "31-Oct-21  11:38 AM             3,661 total rainfall average.csv\n",
      "12-Nov-21  02:54 PM             1,072 Total rainfall.ipynb\n",
      "12-Nov-21  02:52 PM                72 Untitled.ipynb\n",
      "               8 File(s)        113,725 bytes\n",
      "               3 Dir(s)  33,246,969,856 bytes free\n"
     ]
    }
   ],
   "source": [
    "!dir"
   ]
  },
  {
   "cell_type": "markdown",
   "id": "0126951f",
   "metadata": {},
   "source": [
    "# Importing relevant libraries"
   ]
  },
  {
   "cell_type": "code",
   "execution_count": 2,
   "id": "e993bf64",
   "metadata": {},
   "outputs": [],
   "source": [
    "import pandas as pd\n",
    "import numpy as np\n",
    "import itertools\n",
    "\n",
    "#Plotting libraries\n",
    "import matplotlib.pyplot as plt\n",
    "import seaborn as sns\n",
    "import altair as alt\n",
    "plt.style.use('seaborn-white')\n",
    "%matplotlib inline"
   ]
  },
  {
   "cell_type": "markdown",
   "id": "0714df72",
   "metadata": {},
   "source": [
    "Import csv file"
   ]
  },
  {
   "cell_type": "code",
   "execution_count": 3,
   "id": "86be58d7",
   "metadata": {},
   "outputs": [],
   "source": [
    "df = pd.read_csv(r'C:\\Users\\Lenovo\\Documents\\WeatherAnalysis\\rainfall.csv')"
   ]
  },
  {
   "cell_type": "markdown",
   "id": "7cbf9e05",
   "metadata": {},
   "source": [
    "Lets see what the data looks like"
   ]
  },
  {
   "cell_type": "code",
   "execution_count": 4,
   "id": "07266e61",
   "metadata": {
    "scrolled": true
   },
   "outputs": [
    {
     "data": {
      "text/html": [
       "<div>\n",
       "<style scoped>\n",
       "    .dataframe tbody tr th:only-of-type {\n",
       "        vertical-align: middle;\n",
       "    }\n",
       "\n",
       "    .dataframe tbody tr th {\n",
       "        vertical-align: top;\n",
       "    }\n",
       "\n",
       "    .dataframe thead th {\n",
       "        text-align: right;\n",
       "    }\n",
       "</style>\n",
       "<table border=\"1\" class=\"dataframe\">\n",
       "  <thead>\n",
       "    <tr style=\"text-align: right;\">\n",
       "      <th></th>\n",
       "      <th>Year-</th>\n",
       "      <th>Average of years-</th>\n",
       "    </tr>\n",
       "  </thead>\n",
       "  <tbody>\n",
       "    <tr>\n",
       "      <th>0</th>\n",
       "      <td>1985</td>\n",
       "      <td>681.3</td>\n",
       "    </tr>\n",
       "    <tr>\n",
       "      <th>1</th>\n",
       "      <td>1986</td>\n",
       "      <td>919.2</td>\n",
       "    </tr>\n",
       "    <tr>\n",
       "      <th>2</th>\n",
       "      <td>1987</td>\n",
       "      <td>615.4</td>\n",
       "    </tr>\n",
       "    <tr>\n",
       "      <th>3</th>\n",
       "      <td>1988</td>\n",
       "      <td>1095.1</td>\n",
       "    </tr>\n",
       "    <tr>\n",
       "      <th>4</th>\n",
       "      <td>1989</td>\n",
       "      <td>792.8</td>\n",
       "    </tr>\n",
       "  </tbody>\n",
       "</table>\n",
       "</div>"
      ],
      "text/plain": [
       "   Year-  Average of years-\n",
       "0   1985              681.3\n",
       "1   1986              919.2\n",
       "2   1987              615.4\n",
       "3   1988             1095.1\n",
       "4   1989              792.8"
      ]
     },
     "execution_count": 4,
     "metadata": {},
     "output_type": "execute_result"
    }
   ],
   "source": [
    "df.head()"
   ]
  },
  {
   "cell_type": "markdown",
   "id": "a798f82a",
   "metadata": {},
   "source": [
    "### Cleaning the data\n"
   ]
  },
  {
   "cell_type": "markdown",
   "id": "d72de667",
   "metadata": {},
   "source": [
    "Dropping empty columns"
   ]
  },
  {
   "cell_type": "code",
   "execution_count": 5,
   "id": "86ee9e51",
   "metadata": {},
   "outputs": [],
   "source": [
    "# cols = []\n",
    "# for i in range(2, 97): cols.append(i)\n",
    "# df_after_dropping = df.drop(df.columns[cols],axis=1)"
   ]
  },
  {
   "cell_type": "markdown",
   "id": "5fd83a20",
   "metadata": {},
   "source": [
    "Rename relevant columns"
   ]
  },
  {
   "cell_type": "code",
   "execution_count": 6,
   "id": "c6dfd1bb",
   "metadata": {},
   "outputs": [],
   "source": [
    "df.rename(columns={\"Year-\": \"year\", \"Average of years-\": \"avg_rain\"}, inplace=True)"
   ]
  },
  {
   "cell_type": "code",
   "execution_count": null,
   "id": "72fa91b4",
   "metadata": {},
   "outputs": [],
   "source": []
  },
  {
   "cell_type": "code",
   "execution_count": 7,
   "id": "f4d727cb",
   "metadata": {},
   "outputs": [
    {
     "data": {
      "text/html": [
       "<div>\n",
       "<style scoped>\n",
       "    .dataframe tbody tr th:only-of-type {\n",
       "        vertical-align: middle;\n",
       "    }\n",
       "\n",
       "    .dataframe tbody tr th {\n",
       "        vertical-align: top;\n",
       "    }\n",
       "\n",
       "    .dataframe thead th {\n",
       "        text-align: right;\n",
       "    }\n",
       "</style>\n",
       "<table border=\"1\" class=\"dataframe\">\n",
       "  <thead>\n",
       "    <tr style=\"text-align: right;\">\n",
       "      <th></th>\n",
       "      <th>year</th>\n",
       "      <th>avg_rain</th>\n",
       "    </tr>\n",
       "  </thead>\n",
       "  <tbody>\n",
       "    <tr>\n",
       "      <th>0</th>\n",
       "      <td>1985</td>\n",
       "      <td>681.3</td>\n",
       "    </tr>\n",
       "    <tr>\n",
       "      <th>1</th>\n",
       "      <td>1986</td>\n",
       "      <td>919.2</td>\n",
       "    </tr>\n",
       "    <tr>\n",
       "      <th>2</th>\n",
       "      <td>1987</td>\n",
       "      <td>615.4</td>\n",
       "    </tr>\n",
       "    <tr>\n",
       "      <th>3</th>\n",
       "      <td>1988</td>\n",
       "      <td>1095.1</td>\n",
       "    </tr>\n",
       "    <tr>\n",
       "      <th>4</th>\n",
       "      <td>1989</td>\n",
       "      <td>792.8</td>\n",
       "    </tr>\n",
       "    <tr>\n",
       "      <th>5</th>\n",
       "      <td>1990</td>\n",
       "      <td>1222.6</td>\n",
       "    </tr>\n",
       "    <tr>\n",
       "      <th>6</th>\n",
       "      <td>1991</td>\n",
       "      <td>602.1</td>\n",
       "    </tr>\n",
       "    <tr>\n",
       "      <th>7</th>\n",
       "      <td>1992</td>\n",
       "      <td>969.8</td>\n",
       "    </tr>\n",
       "    <tr>\n",
       "      <th>8</th>\n",
       "      <td>1993</td>\n",
       "      <td>837.8</td>\n",
       "    </tr>\n",
       "    <tr>\n",
       "      <th>9</th>\n",
       "      <td>1994</td>\n",
       "      <td>1087.2</td>\n",
       "    </tr>\n",
       "    <tr>\n",
       "      <th>10</th>\n",
       "      <td>1995</td>\n",
       "      <td>1131.7</td>\n",
       "    </tr>\n",
       "    <tr>\n",
       "      <th>11</th>\n",
       "      <td>1996</td>\n",
       "      <td>878.5</td>\n",
       "    </tr>\n",
       "    <tr>\n",
       "      <th>12</th>\n",
       "      <td>1997</td>\n",
       "      <td>815.5</td>\n",
       "    </tr>\n",
       "    <tr>\n",
       "      <th>13</th>\n",
       "      <td>1998</td>\n",
       "      <td>915.3</td>\n",
       "    </tr>\n",
       "    <tr>\n",
       "      <th>14</th>\n",
       "      <td>1999</td>\n",
       "      <td>900.9</td>\n",
       "    </tr>\n",
       "    <tr>\n",
       "      <th>15</th>\n",
       "      <td>2000</td>\n",
       "      <td>779.2</td>\n",
       "    </tr>\n",
       "    <tr>\n",
       "      <th>16</th>\n",
       "      <td>2001</td>\n",
       "      <td>859.0</td>\n",
       "    </tr>\n",
       "    <tr>\n",
       "      <th>17</th>\n",
       "      <td>2002</td>\n",
       "      <td>889.9</td>\n",
       "    </tr>\n",
       "    <tr>\n",
       "      <th>18</th>\n",
       "      <td>2003</td>\n",
       "      <td>520.0</td>\n",
       "    </tr>\n",
       "    <tr>\n",
       "      <th>19</th>\n",
       "      <td>2004</td>\n",
       "      <td>458.1</td>\n",
       "    </tr>\n",
       "    <tr>\n",
       "      <th>20</th>\n",
       "      <td>2005</td>\n",
       "      <td>962.4</td>\n",
       "    </tr>\n",
       "    <tr>\n",
       "      <th>21</th>\n",
       "      <td>2006</td>\n",
       "      <td>1068.5</td>\n",
       "    </tr>\n",
       "    <tr>\n",
       "      <th>22</th>\n",
       "      <td>2007</td>\n",
       "      <td>844.0</td>\n",
       "    </tr>\n",
       "    <tr>\n",
       "      <th>23</th>\n",
       "      <td>2008</td>\n",
       "      <td>633.2</td>\n",
       "    </tr>\n",
       "    <tr>\n",
       "      <th>24</th>\n",
       "      <td>2009</td>\n",
       "      <td>816.0</td>\n",
       "    </tr>\n",
       "    <tr>\n",
       "      <th>25</th>\n",
       "      <td>2010</td>\n",
       "      <td>1146.8</td>\n",
       "    </tr>\n",
       "    <tr>\n",
       "      <th>26</th>\n",
       "      <td>2011</td>\n",
       "      <td>815.9</td>\n",
       "    </tr>\n",
       "    <tr>\n",
       "      <th>27</th>\n",
       "      <td>2012</td>\n",
       "      <td>905.8</td>\n",
       "    </tr>\n",
       "    <tr>\n",
       "      <th>28</th>\n",
       "      <td>2013</td>\n",
       "      <td>1366.4</td>\n",
       "    </tr>\n",
       "    <tr>\n",
       "      <th>29</th>\n",
       "      <td>2014</td>\n",
       "      <td>715.1</td>\n",
       "    </tr>\n",
       "    <tr>\n",
       "      <th>30</th>\n",
       "      <td>2015</td>\n",
       "      <td>707.1</td>\n",
       "    </tr>\n",
       "  </tbody>\n",
       "</table>\n",
       "</div>"
      ],
      "text/plain": [
       "    year  avg_rain\n",
       "0   1985     681.3\n",
       "1   1986     919.2\n",
       "2   1987     615.4\n",
       "3   1988    1095.1\n",
       "4   1989     792.8\n",
       "5   1990    1222.6\n",
       "6   1991     602.1\n",
       "7   1992     969.8\n",
       "8   1993     837.8\n",
       "9   1994    1087.2\n",
       "10  1995    1131.7\n",
       "11  1996     878.5\n",
       "12  1997     815.5\n",
       "13  1998     915.3\n",
       "14  1999     900.9\n",
       "15  2000     779.2\n",
       "16  2001     859.0\n",
       "17  2002     889.9\n",
       "18  2003     520.0\n",
       "19  2004     458.1\n",
       "20  2005     962.4\n",
       "21  2006    1068.5\n",
       "22  2007     844.0\n",
       "23  2008     633.2\n",
       "24  2009     816.0\n",
       "25  2010    1146.8\n",
       "26  2011     815.9\n",
       "27  2012     905.8\n",
       "28  2013    1366.4\n",
       "29  2014     715.1\n",
       "30  2015     707.1"
      ]
     },
     "execution_count": 7,
     "metadata": {},
     "output_type": "execute_result"
    }
   ],
   "source": [
    "rain_data = df\n",
    "rain_data.head(31)"
   ]
  },
  {
   "cell_type": "markdown",
   "id": "d501d06b",
   "metadata": {},
   "source": [
    "### Mean, Standard Deviations & Quantiles of the data\n",
    "Some relevant statistics from the data"
   ]
  },
  {
   "cell_type": "code",
   "execution_count": 8,
   "id": "f42f98cb",
   "metadata": {},
   "outputs": [
    {
     "data": {
      "text/html": [
       "<div>\n",
       "<style scoped>\n",
       "    .dataframe tbody tr th:only-of-type {\n",
       "        vertical-align: middle;\n",
       "    }\n",
       "\n",
       "    .dataframe tbody tr th {\n",
       "        vertical-align: top;\n",
       "    }\n",
       "\n",
       "    .dataframe thead th {\n",
       "        text-align: right;\n",
       "    }\n",
       "</style>\n",
       "<table border=\"1\" class=\"dataframe\">\n",
       "  <thead>\n",
       "    <tr style=\"text-align: right;\">\n",
       "      <th></th>\n",
       "      <th>year</th>\n",
       "      <th>avg_rain</th>\n",
       "    </tr>\n",
       "  </thead>\n",
       "  <tbody>\n",
       "    <tr>\n",
       "      <th>count</th>\n",
       "      <td>32.000000</td>\n",
       "      <td>32.000000</td>\n",
       "    </tr>\n",
       "    <tr>\n",
       "      <th>mean</th>\n",
       "      <td>2000.500000</td>\n",
       "      <td>870.493750</td>\n",
       "    </tr>\n",
       "    <tr>\n",
       "      <th>std</th>\n",
       "      <td>9.380832</td>\n",
       "      <td>202.856976</td>\n",
       "    </tr>\n",
       "    <tr>\n",
       "      <th>min</th>\n",
       "      <td>1985.000000</td>\n",
       "      <td>458.100000</td>\n",
       "    </tr>\n",
       "    <tr>\n",
       "      <th>25%</th>\n",
       "      <td>1992.750000</td>\n",
       "      <td>763.175000</td>\n",
       "    </tr>\n",
       "    <tr>\n",
       "      <th>50%</th>\n",
       "      <td>2000.500000</td>\n",
       "      <td>868.750000</td>\n",
       "    </tr>\n",
       "    <tr>\n",
       "      <th>75%</th>\n",
       "      <td>2008.250000</td>\n",
       "      <td>964.250000</td>\n",
       "    </tr>\n",
       "    <tr>\n",
       "      <th>max</th>\n",
       "      <td>2016.000000</td>\n",
       "      <td>1366.400000</td>\n",
       "    </tr>\n",
       "  </tbody>\n",
       "</table>\n",
       "</div>"
      ],
      "text/plain": [
       "              year     avg_rain\n",
       "count    32.000000    32.000000\n",
       "mean   2000.500000   870.493750\n",
       "std       9.380832   202.856976\n",
       "min    1985.000000   458.100000\n",
       "25%    1992.750000   763.175000\n",
       "50%    2000.500000   868.750000\n",
       "75%    2008.250000   964.250000\n",
       "max    2016.000000  1366.400000"
      ]
     },
     "execution_count": 8,
     "metadata": {},
     "output_type": "execute_result"
    }
   ],
   "source": [
    "rain_data.describe()"
   ]
  },
  {
   "cell_type": "code",
   "execution_count": 9,
   "id": "e2589abf",
   "metadata": {},
   "outputs": [],
   "source": [
    "import altair as alt\n",
    "chart = alt.Chart(rain_data) "
   ]
  },
  {
   "cell_type": "markdown",
   "id": "dad724ae",
   "metadata": {},
   "source": [
    "## Data Visualisation\n",
    "\n",
    "We will now create a rolling mean plot for the avaliable data"
   ]
  },
  {
   "cell_type": "code",
   "execution_count": 10,
   "id": "0325bc82",
   "metadata": {},
   "outputs": [],
   "source": [
    "train_chart=alt.Chart(rain_data.reset_index()).mark_line(point=True).encode(\n",
    "    x='year',\n",
    "    y= alt.Y('avg_rain:Q',\n",
    "        scale=alt.Scale(\n",
    "            domain=(300,1500)\n",
    "        )),\n",
    "    tooltip=['year', 'avg_rain']\n",
    ")"
   ]
  },
  {
   "cell_type": "code",
   "execution_count": 11,
   "id": "bd1c41c6",
   "metadata": {},
   "outputs": [
    {
     "data": {
      "text/html": [
       "\n",
       "<div id=\"altair-viz-c9c0328090214b3797339edab478b48f\"></div>\n",
       "<script type=\"text/javascript\">\n",
       "  (function(spec, embedOpt){\n",
       "    let outputDiv = document.currentScript.previousElementSibling;\n",
       "    if (outputDiv.id !== \"altair-viz-c9c0328090214b3797339edab478b48f\") {\n",
       "      outputDiv = document.getElementById(\"altair-viz-c9c0328090214b3797339edab478b48f\");\n",
       "    }\n",
       "    const paths = {\n",
       "      \"vega\": \"https://cdn.jsdelivr.net/npm//vega@5?noext\",\n",
       "      \"vega-lib\": \"https://cdn.jsdelivr.net/npm//vega-lib?noext\",\n",
       "      \"vega-lite\": \"https://cdn.jsdelivr.net/npm//vega-lite@4.8.1?noext\",\n",
       "      \"vega-embed\": \"https://cdn.jsdelivr.net/npm//vega-embed@6?noext\",\n",
       "    };\n",
       "\n",
       "    function loadScript(lib) {\n",
       "      return new Promise(function(resolve, reject) {\n",
       "        var s = document.createElement('script');\n",
       "        s.src = paths[lib];\n",
       "        s.async = true;\n",
       "        s.onload = () => resolve(paths[lib]);\n",
       "        s.onerror = () => reject(`Error loading script: ${paths[lib]}`);\n",
       "        document.getElementsByTagName(\"head\")[0].appendChild(s);\n",
       "      });\n",
       "    }\n",
       "\n",
       "    function showError(err) {\n",
       "      outputDiv.innerHTML = `<div class=\"error\" style=\"color:red;\">${err}</div>`;\n",
       "      throw err;\n",
       "    }\n",
       "\n",
       "    function displayChart(vegaEmbed) {\n",
       "      vegaEmbed(outputDiv, spec, embedOpt)\n",
       "        .catch(err => showError(`Javascript Error: ${err.message}<br>This usually means there's a typo in your chart specification. See the javascript console for the full traceback.`));\n",
       "    }\n",
       "\n",
       "    if(typeof define === \"function\" && define.amd) {\n",
       "      requirejs.config({paths});\n",
       "      require([\"vega-embed\"], displayChart, err => showError(`Error loading script: ${err.message}`));\n",
       "    } else if (typeof vegaEmbed === \"function\") {\n",
       "      displayChart(vegaEmbed);\n",
       "    } else {\n",
       "      loadScript(\"vega\")\n",
       "        .then(() => loadScript(\"vega-lite\"))\n",
       "        .then(() => loadScript(\"vega-embed\"))\n",
       "        .catch(showError)\n",
       "        .then(() => displayChart(vegaEmbed));\n",
       "    }\n",
       "  })({\"config\": {\"view\": {\"continuousWidth\": 400, \"continuousHeight\": 300}}, \"data\": {\"name\": \"data-0ad63c265a946572a1d1dec8daa6b220\"}, \"mark\": {\"type\": \"line\", \"point\": true}, \"encoding\": {\"tooltip\": [{\"type\": \"quantitative\", \"field\": \"year\"}, {\"type\": \"quantitative\", \"field\": \"avg_rain\"}], \"x\": {\"type\": \"quantitative\", \"field\": \"year\"}, \"y\": {\"type\": \"quantitative\", \"field\": \"avg_rain\", \"scale\": {\"domain\": [300, 1500]}}}, \"$schema\": \"https://vega.github.io/schema/vega-lite/v4.8.1.json\", \"datasets\": {\"data-0ad63c265a946572a1d1dec8daa6b220\": [{\"index\": 0, \"year\": 1985, \"avg_rain\": 681.3}, {\"index\": 1, \"year\": 1986, \"avg_rain\": 919.2}, {\"index\": 2, \"year\": 1987, \"avg_rain\": 615.4}, {\"index\": 3, \"year\": 1988, \"avg_rain\": 1095.1}, {\"index\": 4, \"year\": 1989, \"avg_rain\": 792.8}, {\"index\": 5, \"year\": 1990, \"avg_rain\": 1222.6}, {\"index\": 6, \"year\": 1991, \"avg_rain\": 602.1}, {\"index\": 7, \"year\": 1992, \"avg_rain\": 969.8}, {\"index\": 8, \"year\": 1993, \"avg_rain\": 837.8}, {\"index\": 9, \"year\": 1994, \"avg_rain\": 1087.2}, {\"index\": 10, \"year\": 1995, \"avg_rain\": 1131.7}, {\"index\": 11, \"year\": 1996, \"avg_rain\": 878.5}, {\"index\": 12, \"year\": 1997, \"avg_rain\": 815.5}, {\"index\": 13, \"year\": 1998, \"avg_rain\": 915.3}, {\"index\": 14, \"year\": 1999, \"avg_rain\": 900.9}, {\"index\": 15, \"year\": 2000, \"avg_rain\": 779.2}, {\"index\": 16, \"year\": 2001, \"avg_rain\": 859.0}, {\"index\": 17, \"year\": 2002, \"avg_rain\": 889.9}, {\"index\": 18, \"year\": 2003, \"avg_rain\": 520.0}, {\"index\": 19, \"year\": 2004, \"avg_rain\": 458.1}, {\"index\": 20, \"year\": 2005, \"avg_rain\": 962.4}, {\"index\": 21, \"year\": 2006, \"avg_rain\": 1068.5}, {\"index\": 22, \"year\": 2007, \"avg_rain\": 844.0}, {\"index\": 23, \"year\": 2008, \"avg_rain\": 633.2}, {\"index\": 24, \"year\": 2009, \"avg_rain\": 816.0}, {\"index\": 25, \"year\": 2010, \"avg_rain\": 1146.8}, {\"index\": 26, \"year\": 2011, \"avg_rain\": 815.9}, {\"index\": 27, \"year\": 2012, \"avg_rain\": 905.8}, {\"index\": 28, \"year\": 2013, \"avg_rain\": 1366.4}, {\"index\": 29, \"year\": 2014, \"avg_rain\": 715.1}, {\"index\": 30, \"year\": 2015, \"avg_rain\": 707.1}, {\"index\": 31, \"year\": 2016, \"avg_rain\": 903.2}]}}, {\"mode\": \"vega-lite\"});\n",
       "</script>"
      ],
      "text/plain": [
       "alt.Chart(...)"
      ]
     },
     "execution_count": 11,
     "metadata": {},
     "output_type": "execute_result"
    }
   ],
   "source": [
    "train_chart"
   ]
  },
  {
   "cell_type": "code",
   "execution_count": null,
   "id": "b61c1ee1",
   "metadata": {},
   "outputs": [],
   "source": []
  },
  {
   "cell_type": "code",
   "execution_count": 12,
   "id": "cf7a8681",
   "metadata": {},
   "outputs": [
    {
     "data": {
      "text/html": [
       "\n",
       "<div id=\"altair-viz-22ec48fc63184b97b9925aa26c1e18d0\"></div>\n",
       "<script type=\"text/javascript\">\n",
       "  (function(spec, embedOpt){\n",
       "    let outputDiv = document.currentScript.previousElementSibling;\n",
       "    if (outputDiv.id !== \"altair-viz-22ec48fc63184b97b9925aa26c1e18d0\") {\n",
       "      outputDiv = document.getElementById(\"altair-viz-22ec48fc63184b97b9925aa26c1e18d0\");\n",
       "    }\n",
       "    const paths = {\n",
       "      \"vega\": \"https://cdn.jsdelivr.net/npm//vega@5?noext\",\n",
       "      \"vega-lib\": \"https://cdn.jsdelivr.net/npm//vega-lib?noext\",\n",
       "      \"vega-lite\": \"https://cdn.jsdelivr.net/npm//vega-lite@4.8.1?noext\",\n",
       "      \"vega-embed\": \"https://cdn.jsdelivr.net/npm//vega-embed@6?noext\",\n",
       "    };\n",
       "\n",
       "    function loadScript(lib) {\n",
       "      return new Promise(function(resolve, reject) {\n",
       "        var s = document.createElement('script');\n",
       "        s.src = paths[lib];\n",
       "        s.async = true;\n",
       "        s.onload = () => resolve(paths[lib]);\n",
       "        s.onerror = () => reject(`Error loading script: ${paths[lib]}`);\n",
       "        document.getElementsByTagName(\"head\")[0].appendChild(s);\n",
       "      });\n",
       "    }\n",
       "\n",
       "    function showError(err) {\n",
       "      outputDiv.innerHTML = `<div class=\"error\" style=\"color:red;\">${err}</div>`;\n",
       "      throw err;\n",
       "    }\n",
       "\n",
       "    function displayChart(vegaEmbed) {\n",
       "      vegaEmbed(outputDiv, spec, embedOpt)\n",
       "        .catch(err => showError(`Javascript Error: ${err.message}<br>This usually means there's a typo in your chart specification. See the javascript console for the full traceback.`));\n",
       "    }\n",
       "\n",
       "    if(typeof define === \"function\" && define.amd) {\n",
       "      requirejs.config({paths});\n",
       "      require([\"vega-embed\"], displayChart, err => showError(`Error loading script: ${err.message}`));\n",
       "    } else if (typeof vegaEmbed === \"function\") {\n",
       "      displayChart(vegaEmbed);\n",
       "    } else {\n",
       "      loadScript(\"vega\")\n",
       "        .then(() => loadScript(\"vega-lite\"))\n",
       "        .then(() => loadScript(\"vega-embed\"))\n",
       "        .catch(showError)\n",
       "        .then(() => displayChart(vegaEmbed));\n",
       "    }\n",
       "  })({\"config\": {\"view\": {\"continuousWidth\": 400, \"continuousHeight\": 300}}, \"data\": {\"name\": \"data-0ad63c265a946572a1d1dec8daa6b220\"}, \"mark\": {\"type\": \"trail\", \"color\": \"orange\", \"size\": 1}, \"encoding\": {\"size\": {\"type\": \"quantitative\", \"field\": \"avg_rain\"}, \"x\": {\"type\": \"temporal\", \"field\": \"year\"}, \"y\": {\"type\": \"quantitative\", \"field\": \"rolling_mean\"}}, \"transform\": [{\"window\": [{\"op\": \"mean\", \"field\": \"avg_rain\", \"as\": \"rolling_mean\"}], \"frame\": [-4, 4]}], \"$schema\": \"https://vega.github.io/schema/vega-lite/v4.8.1.json\", \"datasets\": {\"data-0ad63c265a946572a1d1dec8daa6b220\": [{\"index\": 0, \"year\": 1985, \"avg_rain\": 681.3}, {\"index\": 1, \"year\": 1986, \"avg_rain\": 919.2}, {\"index\": 2, \"year\": 1987, \"avg_rain\": 615.4}, {\"index\": 3, \"year\": 1988, \"avg_rain\": 1095.1}, {\"index\": 4, \"year\": 1989, \"avg_rain\": 792.8}, {\"index\": 5, \"year\": 1990, \"avg_rain\": 1222.6}, {\"index\": 6, \"year\": 1991, \"avg_rain\": 602.1}, {\"index\": 7, \"year\": 1992, \"avg_rain\": 969.8}, {\"index\": 8, \"year\": 1993, \"avg_rain\": 837.8}, {\"index\": 9, \"year\": 1994, \"avg_rain\": 1087.2}, {\"index\": 10, \"year\": 1995, \"avg_rain\": 1131.7}, {\"index\": 11, \"year\": 1996, \"avg_rain\": 878.5}, {\"index\": 12, \"year\": 1997, \"avg_rain\": 815.5}, {\"index\": 13, \"year\": 1998, \"avg_rain\": 915.3}, {\"index\": 14, \"year\": 1999, \"avg_rain\": 900.9}, {\"index\": 15, \"year\": 2000, \"avg_rain\": 779.2}, {\"index\": 16, \"year\": 2001, \"avg_rain\": 859.0}, {\"index\": 17, \"year\": 2002, \"avg_rain\": 889.9}, {\"index\": 18, \"year\": 2003, \"avg_rain\": 520.0}, {\"index\": 19, \"year\": 2004, \"avg_rain\": 458.1}, {\"index\": 20, \"year\": 2005, \"avg_rain\": 962.4}, {\"index\": 21, \"year\": 2006, \"avg_rain\": 1068.5}, {\"index\": 22, \"year\": 2007, \"avg_rain\": 844.0}, {\"index\": 23, \"year\": 2008, \"avg_rain\": 633.2}, {\"index\": 24, \"year\": 2009, \"avg_rain\": 816.0}, {\"index\": 25, \"year\": 2010, \"avg_rain\": 1146.8}, {\"index\": 26, \"year\": 2011, \"avg_rain\": 815.9}, {\"index\": 27, \"year\": 2012, \"avg_rain\": 905.8}, {\"index\": 28, \"year\": 2013, \"avg_rain\": 1366.4}, {\"index\": 29, \"year\": 2014, \"avg_rain\": 715.1}, {\"index\": 30, \"year\": 2015, \"avg_rain\": 707.1}, {\"index\": 31, \"year\": 2016, \"avg_rain\": 903.2}]}}, {\"mode\": \"vega-lite\"});\n",
       "</script>"
      ],
      "text/plain": [
       "alt.Chart(...)"
      ]
     },
     "execution_count": 12,
     "metadata": {},
     "output_type": "execute_result"
    }
   ],
   "source": [
    "#Create Rolling mean. This centered rolling mean \n",
    "rolling_mean = alt.Chart(rain_data.reset_index()).mark_trail(\n",
    "    color='orange',\n",
    "    size=1\n",
    ").transform_window(\n",
    "    rolling_mean='mean(avg_rain)',\n",
    "    frame=[-4,4]\n",
    ").encode(\n",
    "    x='year:T',\n",
    "    y='rolling_mean:Q',\n",
    "    size='avg_rain'\n",
    ")\n",
    "\n",
    "rolling_mean"
   ]
  },
  {
   "cell_type": "code",
   "execution_count": 13,
   "id": "e4cabe80",
   "metadata": {},
   "outputs": [],
   "source": [
    "#Add zoom-in/out\n",
    "scales = alt.selection_interval(bind='scales')"
   ]
  },
  {
   "cell_type": "code",
   "execution_count": 14,
   "id": "7099239b",
   "metadata": {},
   "outputs": [],
   "source": [
    "#Add data labels\n",
    "text = train_chart.mark_text(\n",
    "    align='left',\n",
    "    baseline='top',\n",
    "    dx=10  # Moves text to right so it doesn't appear on top of the bar\n",
    ").encode(\n",
    "    text='avg_rain:Q'\n",
    ")"
   ]
  },
  {
   "cell_type": "markdown",
   "id": "7927d368",
   "metadata": {},
   "source": [
    "## Final Output\n",
    "\n",
    "### The plot is intreactable i.e. we can zoom in and zoom out on data points."
   ]
  },
  {
   "cell_type": "code",
   "execution_count": 15,
   "id": "a66f0e0c",
   "metadata": {
    "scrolled": true
   },
   "outputs": [
    {
     "data": {
      "text/html": [
       "\n",
       "<div id=\"altair-viz-529e523535cb4c80902b48f1c22c093c\"></div>\n",
       "<script type=\"text/javascript\">\n",
       "  (function(spec, embedOpt){\n",
       "    let outputDiv = document.currentScript.previousElementSibling;\n",
       "    if (outputDiv.id !== \"altair-viz-529e523535cb4c80902b48f1c22c093c\") {\n",
       "      outputDiv = document.getElementById(\"altair-viz-529e523535cb4c80902b48f1c22c093c\");\n",
       "    }\n",
       "    const paths = {\n",
       "      \"vega\": \"https://cdn.jsdelivr.net/npm//vega@5?noext\",\n",
       "      \"vega-lib\": \"https://cdn.jsdelivr.net/npm//vega-lib?noext\",\n",
       "      \"vega-lite\": \"https://cdn.jsdelivr.net/npm//vega-lite@4.8.1?noext\",\n",
       "      \"vega-embed\": \"https://cdn.jsdelivr.net/npm//vega-embed@6?noext\",\n",
       "    };\n",
       "\n",
       "    function loadScript(lib) {\n",
       "      return new Promise(function(resolve, reject) {\n",
       "        var s = document.createElement('script');\n",
       "        s.src = paths[lib];\n",
       "        s.async = true;\n",
       "        s.onload = () => resolve(paths[lib]);\n",
       "        s.onerror = () => reject(`Error loading script: ${paths[lib]}`);\n",
       "        document.getElementsByTagName(\"head\")[0].appendChild(s);\n",
       "      });\n",
       "    }\n",
       "\n",
       "    function showError(err) {\n",
       "      outputDiv.innerHTML = `<div class=\"error\" style=\"color:red;\">${err}</div>`;\n",
       "      throw err;\n",
       "    }\n",
       "\n",
       "    function displayChart(vegaEmbed) {\n",
       "      vegaEmbed(outputDiv, spec, embedOpt)\n",
       "        .catch(err => showError(`Javascript Error: ${err.message}<br>This usually means there's a typo in your chart specification. See the javascript console for the full traceback.`));\n",
       "    }\n",
       "\n",
       "    if(typeof define === \"function\" && define.amd) {\n",
       "      requirejs.config({paths});\n",
       "      require([\"vega-embed\"], displayChart, err => showError(`Error loading script: ${err.message}`));\n",
       "    } else if (typeof vegaEmbed === \"function\") {\n",
       "      displayChart(vegaEmbed);\n",
       "    } else {\n",
       "      loadScript(\"vega\")\n",
       "        .then(() => loadScript(\"vega-lite\"))\n",
       "        .then(() => loadScript(\"vega-embed\"))\n",
       "        .catch(showError)\n",
       "        .then(() => displayChart(vegaEmbed));\n",
       "    }\n",
       "  })({\"config\": {\"view\": {\"continuousWidth\": 400, \"continuousHeight\": 300}}, \"layer\": [{\"data\": {\"name\": \"data-0ad63c265a946572a1d1dec8daa6b220\"}, \"mark\": {\"type\": \"line\", \"point\": true}, \"encoding\": {\"tooltip\": [{\"type\": \"quantitative\", \"field\": \"year\"}, {\"type\": \"quantitative\", \"field\": \"avg_rain\"}], \"x\": {\"type\": \"quantitative\", \"field\": \"year\"}, \"y\": {\"type\": \"quantitative\", \"field\": \"avg_rain\", \"scale\": {\"domain\": [300, 1500]}}}, \"selection\": {\"selector001\": {\"type\": \"interval\", \"bind\": \"scales\"}}}, {\"data\": {\"name\": \"data-0ad63c265a946572a1d1dec8daa6b220\"}, \"mark\": {\"type\": \"trail\", \"color\": \"orange\", \"size\": 1}, \"encoding\": {\"size\": {\"type\": \"quantitative\", \"field\": \"avg_rain\"}, \"x\": {\"type\": \"temporal\", \"field\": \"year\"}, \"y\": {\"type\": \"quantitative\", \"field\": \"rolling_mean\"}}, \"transform\": [{\"window\": [{\"op\": \"mean\", \"field\": \"avg_rain\", \"as\": \"rolling_mean\"}], \"frame\": [-4, 4]}]}], \"height\": 300, \"title\": \"Avg Rainfall in Yavatmal\", \"width\": 1000, \"$schema\": \"https://vega.github.io/schema/vega-lite/v4.8.1.json\", \"datasets\": {\"data-0ad63c265a946572a1d1dec8daa6b220\": [{\"index\": 0, \"year\": 1985, \"avg_rain\": 681.3}, {\"index\": 1, \"year\": 1986, \"avg_rain\": 919.2}, {\"index\": 2, \"year\": 1987, \"avg_rain\": 615.4}, {\"index\": 3, \"year\": 1988, \"avg_rain\": 1095.1}, {\"index\": 4, \"year\": 1989, \"avg_rain\": 792.8}, {\"index\": 5, \"year\": 1990, \"avg_rain\": 1222.6}, {\"index\": 6, \"year\": 1991, \"avg_rain\": 602.1}, {\"index\": 7, \"year\": 1992, \"avg_rain\": 969.8}, {\"index\": 8, \"year\": 1993, \"avg_rain\": 837.8}, {\"index\": 9, \"year\": 1994, \"avg_rain\": 1087.2}, {\"index\": 10, \"year\": 1995, \"avg_rain\": 1131.7}, {\"index\": 11, \"year\": 1996, \"avg_rain\": 878.5}, {\"index\": 12, \"year\": 1997, \"avg_rain\": 815.5}, {\"index\": 13, \"year\": 1998, \"avg_rain\": 915.3}, {\"index\": 14, \"year\": 1999, \"avg_rain\": 900.9}, {\"index\": 15, \"year\": 2000, \"avg_rain\": 779.2}, {\"index\": 16, \"year\": 2001, \"avg_rain\": 859.0}, {\"index\": 17, \"year\": 2002, \"avg_rain\": 889.9}, {\"index\": 18, \"year\": 2003, \"avg_rain\": 520.0}, {\"index\": 19, \"year\": 2004, \"avg_rain\": 458.1}, {\"index\": 20, \"year\": 2005, \"avg_rain\": 962.4}, {\"index\": 21, \"year\": 2006, \"avg_rain\": 1068.5}, {\"index\": 22, \"year\": 2007, \"avg_rain\": 844.0}, {\"index\": 23, \"year\": 2008, \"avg_rain\": 633.2}, {\"index\": 24, \"year\": 2009, \"avg_rain\": 816.0}, {\"index\": 25, \"year\": 2010, \"avg_rain\": 1146.8}, {\"index\": 26, \"year\": 2011, \"avg_rain\": 815.9}, {\"index\": 27, \"year\": 2012, \"avg_rain\": 905.8}, {\"index\": 28, \"year\": 2013, \"avg_rain\": 1366.4}, {\"index\": 29, \"year\": 2014, \"avg_rain\": 715.1}, {\"index\": 30, \"year\": 2015, \"avg_rain\": 707.1}, {\"index\": 31, \"year\": 2016, \"avg_rain\": 903.2}]}}, {\"mode\": \"vega-lite\"});\n",
       "</script>"
      ],
      "text/plain": [
       "alt.LayerChart(...)"
      ]
     },
     "execution_count": 15,
     "metadata": {},
     "output_type": "execute_result"
    }
   ],
   "source": [
    "#collapse-hide\n",
    "#Combine everything\n",
    "(train_chart + rolling_mean).properties(\n",
    "    width=1000,\n",
    "    height=300,\n",
    "    title=\"Avg Rainfall in Yavatmal\").add_selection(\n",
    "    scales\n",
    ")"
   ]
  },
  {
   "cell_type": "code",
   "execution_count": null,
   "id": "a153b0c4",
   "metadata": {},
   "outputs": [],
   "source": []
  },
  {
   "cell_type": "code",
   "execution_count": null,
   "id": "b81e6801",
   "metadata": {},
   "outputs": [],
   "source": []
  }
 ],
 "metadata": {
  "kernelspec": {
   "display_name": "Python 3",
   "language": "python",
   "name": "python3"
  },
  "language_info": {
   "codemirror_mode": {
    "name": "ipython",
    "version": 3
   },
   "file_extension": ".py",
   "mimetype": "text/x-python",
   "name": "python",
   "nbconvert_exporter": "python",
   "pygments_lexer": "ipython3",
   "version": "3.8.8"
  }
 },
 "nbformat": 4,
 "nbformat_minor": 5
}
